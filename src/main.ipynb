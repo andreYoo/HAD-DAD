{
 "cells": [
  {
   "cell_type": "code",
   "execution_count": 1,
   "id": "8d777230",
   "metadata": {},
   "outputs": [
    {
     "name": "stdout",
     "output_type": "stream",
     "text": [
      "Jupyter environment detected. Enabling Open3D WebVisualizer.\n",
      "[Open3D INFO] WebRTC GUI backend enabled.\n",
      "[Open3D INFO] WebRTCWindowSystem: HTTP handshake server disabled.\n"
     ]
    }
   ],
   "source": [
    "%matplotlib widget\n",
    "\n",
    "import numpy as np \n",
    "import torch \n",
    "import os \n",
    "import cv2 \n",
    "from plyfile import PlyData, PlyElement \n",
    "import open3d as o3d #from open3d import JVisualizer from pyntcloud import PyntCloud from IPython.display import display from PIL import Image\n",
    "import pdb\n",
    "import matplotlib.pyplot as plt\n",
    "import ipyvolume as ipv\n",
    "import ipywidgets\n",
    "from IPython.display import display\n",
    "from sklearn.manifold import TSNE"
   ]
  },
  {
   "cell_type": "code",
   "execution_count": 2,
   "id": "4ef696a0",
   "metadata": {},
   "outputs": [],
   "source": [
    "#Check VALIDATION of FILE (if,jpg, jpeg, bin,and ply are exist, then it's valid\n",
    "DATA_PATH = './test_sample'\n",
    "S_NPY_FILE_PATH = \"./source_feature.npy\"\n",
    "T_NPY_FILE_PATH = \"./target_feature.npy\"\n",
    "profiler_path = 'profiler_data'\n",
    "rgb_path = 'rgb_camera_data'\n",
    "alpha=1.1\n",
    "colors = [\"red\", \"blue\",\"orange\",\"yellow\",\"purple\"]"
   ]
  },
  {
   "cell_type": "code",
   "execution_count": 3,
   "id": "806412c5-0700-4fe7-bfe8-4427f93e6bed",
   "metadata": {},
   "outputs": [],
   "source": [
    "def read_npy(filename):\n",
    "    _npy = np.load(filename, allow_pickle=True)\n",
    "    return _npy"
   ]
  },
  {
   "cell_type": "code",
   "execution_count": 4,
   "id": "72e1c9ee-a76b-413f-a36f-260da3129828",
   "metadata": {},
   "outputs": [],
   "source": [
    "\n",
    "if __name__ == \"__main__\":\n",
    "    #Read data\n",
    "    source_npy_data = read_npy(S_NPY_FILE_PATH)\n",
    "    target_npy_data = read_npy(T_NPY_FILE_PATH)\n",
    "    #display(Image.open(IMAGE_FILE_PATH))\n",
    "    \n",
    "    s_feature =source_npy_data.item().get('feature')\n",
    "    s_label = source_npy_data.item().get('label')\n",
    "    \n",
    "    t_feature =target_npy_data.item().get('feature')\n",
    "    t_label = target_npy_data.item().get('label')\n",
    "    \n",
    "    tsne = TSNE(n_components=3, learning_rate='auto',init='random')\n",
    "    s_embedding = tsne.fit_transform(s_feature) \n",
    "    t_embedding = tsne.fit_transform(t_feature)\n",
    "    '''\n",
    "    fig = ipv.figure()\n",
    "    for i in range(2):\n",
    "        ipv.scatter(s_embedding[np.where(s_label==i)[0],0], s_embedding[np.where(s_label==i)[0],1], s_embedding[np.where(s_label==i)[0],2],color=colors[i],marker=\"sphere\",size=0.5)\n",
    "        ipv.scatter(t_embedding[np.where(t_label==i)[0],0], t_embedding[np.where(t_label==i)[0],1], t_embedding[np.where(t_label==i)[0],2],color=colors[i],marker=\"square\",size=0.5)\n",
    "    ipv.show()\n",
    "    '''\n",
    "    "
   ]
  },
  {
   "cell_type": "code",
   "execution_count": 5,
   "id": "b1bce7ea-170e-4cc7-9951-d513ae5b35a2",
   "metadata": {},
   "outputs": [
    {
     "data": {
      "application/vnd.jupyter.widget-view+json": {
       "model_id": "d6f39e8232774aa798c5d652c08f040d",
       "version_major": 2,
       "version_minor": 0
      },
      "text/plain": [
       "VBox(children=(Figure(camera=PerspectiveCamera(fov=45.0, position=(0.0, 0.0, 2.0), projectionMatrix=(1.0, 0.0,…"
      ]
     },
     "metadata": {},
     "output_type": "display_data"
    }
   ],
   "source": [
    "    #Source data feature visualisation\n",
    "    fig = ipv.figure()\n",
    "    ipv.scatter(s_embedding[np.where(s_label==0)[0],0], s_embedding[np.where(s_label==0)[0],1], s_embedding[np.where(s_label==0)[0],2],color='green',marker=\"sphere\",size=1.0)\n",
    "    ipv.scatter(s_embedding[np.where(s_label==1)[0],0], s_embedding[np.where(s_label==1)[0],1], s_embedding[np.where(s_label==1)[0],2],color='red',marker=\"diamond\",size=1.0)\n",
    "    ipv.show()\n",
    "    "
   ]
  },
  {
   "cell_type": "code",
   "execution_count": 6,
   "id": "0c2c9290-6d13-447a-8d51-21902bf9ee2a",
   "metadata": {},
   "outputs": [
    {
     "data": {
      "application/vnd.jupyter.widget-view+json": {
       "model_id": "30b3cb6c9ac046da9adaa8e12835340a",
       "version_major": 2,
       "version_minor": 0
      },
      "text/plain": [
       "VBox(children=(Figure(camera=PerspectiveCamera(fov=45.0, position=(0.0, 0.0, 2.0), projectionMatrix=(1.0, 0.0,…"
      ]
     },
     "metadata": {},
     "output_type": "display_data"
    }
   ],
   "source": [
    "    #Target data feature visualisation\n",
    "    fig = ipv.figure()\n",
    "    ipv.scatter(t_embedding[np.where(t_label==0)[0],0], t_embedding[np.where(t_label==0)[0],1], t_embedding[np.where(t_label==0)[0],2],color='green',marker=\"sphere\",size=1.0)\n",
    "    ipv.scatter(t_embedding[np.where(t_label==1)[0],0], t_embedding[np.where(t_label==1)[0],1], t_embedding[np.where(t_label==1)[0],2],color='red',marker=\"diamond\",size=1.0)\n",
    "    ipv.show()"
   ]
  },
  {
   "cell_type": "code",
   "execution_count": 7,
   "id": "20872660-dfe0-4c69-b6b3-420e71b59382",
   "metadata": {},
   "outputs": [
    {
     "data": {
      "application/vnd.jupyter.widget-view+json": {
       "model_id": "ac6acab5f839466d82ae708c8dbae99f",
       "version_major": 2,
       "version_minor": 0
      },
      "text/plain": [
       "VBox(children=(Figure(camera=PerspectiveCamera(fov=45.0, position=(0.0, 0.0, 2.0), projectionMatrix=(1.0, 0.0,…"
      ]
     },
     "metadata": {},
     "output_type": "display_data"
    }
   ],
   "source": [
    "\n",
    "    fig = ipv.figure()\n",
    "    ipv.scatter(s_embedding[np.where(s_label==0)[0],0], s_embedding[np.where(s_label==0)[0],1], s_embedding[np.where(s_label==0)[0],2],color='blue',marker=\"sphere\",size=1.0)\n",
    "    ipv.scatter(s_embedding[np.where(s_label==1)[0],0], s_embedding[np.where(s_label==1)[0],1], s_embedding[np.where(s_label==1)[0],2],color='red',marker=\"sphere\",size=1.0)\n",
    "    \n",
    "    ipv.scatter(t_embedding[np.where(t_label==0)[0],0], t_embedding[np.where(t_label==0)[0],1], t_embedding[np.where(t_label==0)[0],2],color='green',marker=\"diamond\",size=1.0)\n",
    "    ipv.scatter(t_embedding[np.where(t_label==1)[0],0], t_embedding[np.where(t_label==1)[0],1], t_embedding[np.where(t_label==1)[0],2],color='orange',marker=\"diamond\",size=1.0)\n",
    "    \n",
    "    \n",
    "    ipv.show()"
   ]
  },
  {
   "cell_type": "code",
   "execution_count": null,
   "id": "6cc19b67-be06-4a8c-8bc6-ece8a0913d45",
   "metadata": {},
   "outputs": [],
   "source": []
  },
  {
   "cell_type": "code",
   "execution_count": null,
   "id": "8dbcda8e-0491-4f0b-b7f7-c1ee623699a7",
   "metadata": {},
   "outputs": [],
   "source": []
  },
  {
   "cell_type": "code",
   "execution_count": null,
   "id": "0de032e4-8475-41fc-8521-d7181d64cdce",
   "metadata": {},
   "outputs": [],
   "source": []
  },
  {
   "cell_type": "code",
   "execution_count": null,
   "id": "ba7a1f68-429d-4872-b8ba-be4388eeca9f",
   "metadata": {},
   "outputs": [],
   "source": []
  },
  {
   "cell_type": "code",
   "execution_count": null,
   "id": "8f778933-0ba6-4075-ae92-ae7211a78ec5",
   "metadata": {},
   "outputs": [],
   "source": []
  },
  {
   "cell_type": "code",
   "execution_count": null,
   "id": "e5d00d20-9f19-4a81-8f44-a69a566a5059",
   "metadata": {},
   "outputs": [],
   "source": []
  },
  {
   "cell_type": "code",
   "execution_count": null,
   "id": "9b6a216c-d81d-42ef-a4fd-c85652d6a26e",
   "metadata": {},
   "outputs": [],
   "source": []
  },
  {
   "cell_type": "code",
   "execution_count": null,
   "id": "bee2032c-0570-4964-a902-809b75c72370",
   "metadata": {},
   "outputs": [],
   "source": []
  },
  {
   "cell_type": "code",
   "execution_count": null,
   "id": "79b00262-6c4e-4278-a0a1-bdb9d877b325",
   "metadata": {},
   "outputs": [],
   "source": []
  }
 ],
 "metadata": {
  "kernelspec": {
   "display_name": "point_seg",
   "language": "python",
   "name": "point_seg"
  },
  "language_info": {
   "codemirror_mode": {
    "name": "ipython",
    "version": 3
   },
   "file_extension": ".py",
   "mimetype": "text/x-python",
   "name": "python",
   "nbconvert_exporter": "python",
   "pygments_lexer": "ipython3",
   "version": "3.8.13"
  }
 },
 "nbformat": 4,
 "nbformat_minor": 5
}
